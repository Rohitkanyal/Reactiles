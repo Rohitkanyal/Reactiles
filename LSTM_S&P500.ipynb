{
  "nbformat": 4,
  "nbformat_minor": 0,
  "metadata": {
    "colab": {
      "name": "LSTM_S&P500.ipynb",
      "version": "0.3.2",
      "provenance": []
    },
    "kernelspec": {
      "name": "python3",
      "display_name": "Python 3"
    }
  },
  "cells": [
    {
      "cell_type": "markdown",
      "metadata": {
        "id": "view-in-github",
        "colab_type": "text"
      },
      "source": [
        "[View in Colaboratory](https://colab.research.google.com/github/CPotnis/ReactJS-Assignment4/blob/master/LSTM_S&P500.ipynb)"
      ]
    },
    {
      "metadata": {
        "id": "Vvx4Tjt2Cx5X",
        "colab_type": "code",
        "colab": {}
      },
      "cell_type": "code",
      "source": [
        "import pandas as pd\n",
        "import numpy as np\n",
        "from pandas_datareader import data as pdr\n",
        "\n",
        "import warnings\n",
        "import matplotlib.pyplot as plt\n",
        "import functools as ft\n",
        "#import pandas_talib as TA\n",
        "import operator\n",
        "import datetime\n",
        "from sklearn.preprocessing import MinMaxScaler\n",
        "import fix_yahoo_finance as yf\n",
        "yf.pdr_override()"
      ],
      "execution_count": 0,
      "outputs": []
    },
    {
      "metadata": {
        "id": "4Zs5yzoeCyTs",
        "colab_type": "code",
        "colab": {
          "base_uri": "https://localhost:8080/",
          "height": 34
        },
        "outputId": "fbf8f314-b487-404d-d326-f7aa2c8d05e4"
      },
      "cell_type": "code",
      "source": [
        "start = \"1995-01-01\" \n",
        "end = \"2017-12-17\"\n",
        "SP = pdr.get_data_yahoo(\"^GSPC\",start,end)"
      ],
      "execution_count": 2,
      "outputs": [
        {
          "output_type": "stream",
          "text": [
            "[*********************100%***********************]  1 of 1 downloaded\n"
          ],
          "name": "stdout"
        }
      ]
    },
    {
      "metadata": {
        "id": "U7oOfpm0C1BO",
        "colab_type": "code",
        "colab": {
          "base_uri": "https://localhost:8080/",
          "height": 235
        },
        "outputId": "787ba59b-d152-46e4-925d-36c77693ccc9"
      },
      "cell_type": "code",
      "source": [
        "SP.head()"
      ],
      "execution_count": 3,
      "outputs": [
        {
          "output_type": "execute_result",
          "data": {
            "text/html": [
              "<div>\n",
              "<style scoped>\n",
              "    .dataframe tbody tr th:only-of-type {\n",
              "        vertical-align: middle;\n",
              "    }\n",
              "\n",
              "    .dataframe tbody tr th {\n",
              "        vertical-align: top;\n",
              "    }\n",
              "\n",
              "    .dataframe thead th {\n",
              "        text-align: right;\n",
              "    }\n",
              "</style>\n",
              "<table border=\"1\" class=\"dataframe\">\n",
              "  <thead>\n",
              "    <tr style=\"text-align: right;\">\n",
              "      <th></th>\n",
              "      <th>Open</th>\n",
              "      <th>High</th>\n",
              "      <th>Low</th>\n",
              "      <th>Close</th>\n",
              "      <th>Adj Close</th>\n",
              "      <th>Volume</th>\n",
              "    </tr>\n",
              "    <tr>\n",
              "      <th>Date</th>\n",
              "      <th></th>\n",
              "      <th></th>\n",
              "      <th></th>\n",
              "      <th></th>\n",
              "      <th></th>\n",
              "      <th></th>\n",
              "    </tr>\n",
              "  </thead>\n",
              "  <tbody>\n",
              "    <tr>\n",
              "      <th>1995-01-03</th>\n",
              "      <td>459.209991</td>\n",
              "      <td>459.269989</td>\n",
              "      <td>457.200012</td>\n",
              "      <td>459.109985</td>\n",
              "      <td>459.109985</td>\n",
              "      <td>262450000</td>\n",
              "    </tr>\n",
              "    <tr>\n",
              "      <th>1995-01-04</th>\n",
              "      <td>459.130005</td>\n",
              "      <td>460.720001</td>\n",
              "      <td>457.559998</td>\n",
              "      <td>460.709991</td>\n",
              "      <td>460.709991</td>\n",
              "      <td>319510000</td>\n",
              "    </tr>\n",
              "    <tr>\n",
              "      <th>1995-01-05</th>\n",
              "      <td>460.730011</td>\n",
              "      <td>461.299988</td>\n",
              "      <td>459.750000</td>\n",
              "      <td>460.339996</td>\n",
              "      <td>460.339996</td>\n",
              "      <td>309050000</td>\n",
              "    </tr>\n",
              "    <tr>\n",
              "      <th>1995-01-06</th>\n",
              "      <td>460.380005</td>\n",
              "      <td>462.489990</td>\n",
              "      <td>459.470001</td>\n",
              "      <td>460.679993</td>\n",
              "      <td>460.679993</td>\n",
              "      <td>308070000</td>\n",
              "    </tr>\n",
              "    <tr>\n",
              "      <th>1995-01-09</th>\n",
              "      <td>460.670013</td>\n",
              "      <td>461.769989</td>\n",
              "      <td>459.739990</td>\n",
              "      <td>460.829987</td>\n",
              "      <td>460.829987</td>\n",
              "      <td>278790000</td>\n",
              "    </tr>\n",
              "  </tbody>\n",
              "</table>\n",
              "</div>"
            ],
            "text/plain": [
              "                  Open        High         Low       Close   Adj Close  \\\n",
              "Date                                                                     \n",
              "1995-01-03  459.209991  459.269989  457.200012  459.109985  459.109985   \n",
              "1995-01-04  459.130005  460.720001  457.559998  460.709991  460.709991   \n",
              "1995-01-05  460.730011  461.299988  459.750000  460.339996  460.339996   \n",
              "1995-01-06  460.380005  462.489990  459.470001  460.679993  460.679993   \n",
              "1995-01-09  460.670013  461.769989  459.739990  460.829987  460.829987   \n",
              "\n",
              "               Volume  \n",
              "Date                   \n",
              "1995-01-03  262450000  \n",
              "1995-01-04  319510000  \n",
              "1995-01-05  309050000  \n",
              "1995-01-06  308070000  \n",
              "1995-01-09  278790000  "
            ]
          },
          "metadata": {
            "tags": []
          },
          "execution_count": 3
        }
      ]
    },
    {
      "metadata": {
        "id": "KFlOhnNYC21d",
        "colab_type": "code",
        "colab": {
          "base_uri": "https://localhost:8080/",
          "height": 71
        },
        "outputId": "67948b7f-c459-4734-95d8-810327c37d8e"
      },
      "cell_type": "code",
      "source": [
        "cl = SP.Open\n",
        "scl = MinMaxScaler()\n",
        "#Scale the data\n",
        "cl = cl.reshape(cl.shape[0],1)\n",
        "cl = scl.fit_transform(cl)"
      ],
      "execution_count": 4,
      "outputs": [
        {
          "output_type": "stream",
          "text": [
            "/usr/local/lib/python3.6/dist-packages/ipykernel_launcher.py:4: FutureWarning: reshape is deprecated and will raise in a subsequent release. Please use .values.reshape(...) instead\n",
            "  after removing the cwd from sys.path.\n"
          ],
          "name": "stderr"
        }
      ]
    },
    {
      "metadata": {
        "id": "_NRsfoGNC6VX",
        "colab_type": "code",
        "colab": {}
      },
      "cell_type": "code",
      "source": [
        "def processData(data,lb):\n",
        "    X,Y = [],[]\n",
        "    for i in range(len(data)-lb-1):\n",
        "        X.append(data[i:(i+lb),0])\n",
        "        Y.append(data[(i+lb),0])\n",
        "    return np.array(X),np.array(Y)\n",
        "X,y = processData(cl,60)\n",
        "X_train,X_test = X[:int(X.shape[0]*0.80)],X[int(X.shape[0]*0.80):]\n",
        "y_train,y_test = y[:int(y.shape[0]*0.80)],y[int(y.shape[0]*0.80):]"
      ],
      "execution_count": 0,
      "outputs": []
    },
    {
      "metadata": {
        "id": "E7-IUt76C8l7",
        "colab_type": "code",
        "colab": {}
      },
      "cell_type": "code",
      "source": [
        "X_train = np.reshape(X_train, (X_train.shape[0], X_train.shape[1], 1))"
      ],
      "execution_count": 0,
      "outputs": []
    },
    {
      "metadata": {
        "id": "sOZ0RJliC-1n",
        "colab_type": "code",
        "colab": {
          "base_uri": "https://localhost:8080/",
          "height": 34
        },
        "outputId": "9db176b4-6631-4cdc-930a-48102919327a"
      },
      "cell_type": "code",
      "source": [
        "from keras.models import Sequential\n",
        "from keras.layers import Dense\n",
        "from keras.layers import LSTM\n",
        "from keras.layers import Dropout\n",
        "\n",
        "# Initialising the RNN\n",
        "regressor = Sequential()\n",
        "\n",
        "# Adding the first LSTM layer and some Dropout regularisation\n",
        "regressor.add(LSTM(units = 50, return_sequences = True, input_shape = (X_train.shape[1], 1)))\n",
        "regressor.add(Dropout(0.2))\n",
        "\n",
        "# Adding a second LSTM layer and some Dropout regularisation\n",
        "regressor.add(LSTM(units = 50, return_sequences = True))\n",
        "regressor.add(Dropout(0.2))\n",
        "\n",
        "# Adding a third LSTM layer and some Dropout regularisation\n",
        "regressor.add(LSTM(units = 50, return_sequences = True))\n",
        "regressor.add(Dropout(0.2))\n",
        "\n",
        "# Adding a fourth LSTM layer and some Dropout regularisation\n",
        "regressor.add(LSTM(units = 50))\n",
        "regressor.add(Dropout(0.2))\n",
        "\n",
        "# Adding the output layer\n",
        "regressor.add(Dense(units = 1))\n",
        "\n",
        "# Compiling the RNN\n",
        "regressor.compile(optimizer = 'adam', loss = 'mean_squared_error')"
      ],
      "execution_count": 7,
      "outputs": [
        {
          "output_type": "stream",
          "text": [
            "Using TensorFlow backend.\n"
          ],
          "name": "stderr"
        }
      ]
    },
    {
      "metadata": {
        "id": "psbGN0uEDBAy",
        "colab_type": "code",
        "colab": {
          "base_uri": "https://localhost:8080/",
          "height": 3434
        },
        "outputId": "c9b26b5d-6406-476e-f740-38a3f7cf3d52"
      },
      "cell_type": "code",
      "source": [
        "# Fitting the RNN to the Training set\n",
        "regressor.fit(X_train, y_train, epochs = 100, batch_size = 32)"
      ],
      "execution_count": 8,
      "outputs": [
        {
          "output_type": "stream",
          "text": [
            "Epoch 1/100\n",
            "4576/4576 [==============================] - 34s 7ms/step - loss: 0.0055\n",
            "Epoch 2/100\n",
            "4576/4576 [==============================] - 32s 7ms/step - loss: 0.0012\n",
            "Epoch 3/100\n",
            "4576/4576 [==============================] - 32s 7ms/step - loss: 0.0010\n",
            "Epoch 4/100\n",
            "2720/4576 [================>.............] - ETA: 12s - loss: 9.9189e-04"
          ],
          "name": "stdout"
        },
        {
          "output_type": "stream",
          "text": [
            "4576/4576 [==============================] - 32s 7ms/step - loss: 9.3469e-04\n",
            "Epoch 5/100\n",
            "4576/4576 [==============================] - 32s 7ms/step - loss: 8.5556e-04\n",
            "Epoch 6/100\n",
            "4576/4576 [==============================] - 32s 7ms/step - loss: 8.3383e-04\n",
            "Epoch 7/100\n",
            "3424/4576 [=====================>........] - ETA: 8s - loss: 7.8248e-04"
          ],
          "name": "stdout"
        },
        {
          "output_type": "stream",
          "text": [
            "4576/4576 [==============================] - 32s 7ms/step - loss: 7.4945e-04\n",
            "Epoch 8/100\n",
            "4576/4576 [==============================] - 32s 7ms/step - loss: 7.0698e-04\n",
            "Epoch 9/100\n",
            "4576/4576 [==============================] - 32s 7ms/step - loss: 6.5277e-04\n",
            "Epoch 10/100\n",
            "3584/4576 [======================>.......] - ETA: 7s - loss: 5.6367e-04"
          ],
          "name": "stdout"
        },
        {
          "output_type": "stream",
          "text": [
            "4576/4576 [==============================] - 32s 7ms/step - loss: 5.6540e-04\n",
            "Epoch 11/100\n",
            "4576/4576 [==============================] - 32s 7ms/step - loss: 5.7643e-04\n",
            "Epoch 12/100\n",
            "4576/4576 [==============================] - 33s 7ms/step - loss: 5.0299e-04\n",
            "Epoch 13/100\n",
            "3552/4576 [======================>.......] - ETA: 7s - loss: 5.0072e-04"
          ],
          "name": "stdout"
        },
        {
          "output_type": "stream",
          "text": [
            "4576/4576 [==============================] - 32s 7ms/step - loss: 4.9530e-04\n",
            "Epoch 14/100\n",
            "4576/4576 [==============================] - 32s 7ms/step - loss: 4.5191e-04\n",
            "Epoch 15/100\n",
            "4576/4576 [==============================] - 32s 7ms/step - loss: 4.1242e-04\n",
            "Epoch 16/100\n",
            "3552/4576 [======================>.......] - ETA: 7s - loss: 3.9368e-04"
          ],
          "name": "stdout"
        },
        {
          "output_type": "stream",
          "text": [
            "4576/4576 [==============================] - 32s 7ms/step - loss: 4.0130e-04\n",
            "Epoch 17/100\n",
            "4576/4576 [==============================] - 32s 7ms/step - loss: 4.0038e-04\n",
            "Epoch 18/100\n",
            "4576/4576 [==============================] - 32s 7ms/step - loss: 3.6538e-04\n",
            "Epoch 19/100\n",
            "3552/4576 [======================>.......] - ETA: 7s - loss: 3.4057e-04"
          ],
          "name": "stdout"
        },
        {
          "output_type": "stream",
          "text": [
            "4576/4576 [==============================] - 31s 7ms/step - loss: 3.3952e-04\n",
            "Epoch 20/100\n",
            "4576/4576 [==============================] - 31s 7ms/step - loss: 3.5114e-04\n",
            "Epoch 21/100\n",
            "4576/4576 [==============================] - 31s 7ms/step - loss: 3.2850e-04\n",
            "Epoch 22/100\n",
            "3520/4576 [======================>.......] - ETA: 6s - loss: 3.1127e-04"
          ],
          "name": "stdout"
        },
        {
          "output_type": "stream",
          "text": [
            "4576/4576 [==============================] - 30s 7ms/step - loss: 3.0431e-04\n",
            "Epoch 23/100\n",
            "4576/4576 [==============================] - 31s 7ms/step - loss: 2.9619e-04\n",
            "Epoch 24/100\n",
            "4576/4576 [==============================] - 31s 7ms/step - loss: 2.9893e-04\n",
            "Epoch 25/100\n",
            "3520/4576 [======================>.......] - ETA: 7s - loss: 2.8530e-04"
          ],
          "name": "stdout"
        },
        {
          "output_type": "stream",
          "text": [
            "4576/4576 [==============================] - 30s 7ms/step - loss: 2.8711e-04\n",
            "Epoch 26/100\n",
            "4576/4576 [==============================] - 30s 7ms/step - loss: 2.6496e-04\n",
            "Epoch 27/100\n",
            "4576/4576 [==============================] - 31s 7ms/step - loss: 2.9536e-04\n",
            "Epoch 28/100\n",
            "3520/4576 [======================>.......] - ETA: 7s - loss: 2.8816e-04"
          ],
          "name": "stdout"
        },
        {
          "output_type": "stream",
          "text": [
            "4576/4576 [==============================] - 31s 7ms/step - loss: 2.7815e-04\n",
            "Epoch 29/100\n",
            "4576/4576 [==============================] - 31s 7ms/step - loss: 2.4291e-04\n",
            "Epoch 30/100\n",
            "4576/4576 [==============================] - 31s 7ms/step - loss: 2.5580e-04\n",
            "Epoch 31/100\n",
            "3488/4576 [=====================>........] - ETA: 7s - loss: 2.3265e-04"
          ],
          "name": "stdout"
        },
        {
          "output_type": "stream",
          "text": [
            "4576/4576 [==============================] - 30s 7ms/step - loss: 2.3573e-04\n",
            "Epoch 32/100\n",
            "4576/4576 [==============================] - 31s 7ms/step - loss: 2.4280e-04\n",
            "Epoch 33/100\n",
            "4576/4576 [==============================] - 31s 7ms/step - loss: 2.3934e-04\n",
            "Epoch 34/100\n",
            "3488/4576 [=====================>........] - ETA: 7s - loss: 2.4894e-04"
          ],
          "name": "stdout"
        },
        {
          "output_type": "stream",
          "text": [
            "4576/4576 [==============================] - 30s 7ms/step - loss: 2.4288e-04\n",
            "Epoch 35/100\n",
            "4576/4576 [==============================] - 30s 7ms/step - loss: 2.3348e-04\n",
            "Epoch 36/100\n",
            "4576/4576 [==============================] - 30s 7ms/step - loss: 2.5024e-04\n",
            "Epoch 37/100\n",
            "3520/4576 [======================>.......] - ETA: 7s - loss: 2.2925e-04"
          ],
          "name": "stdout"
        },
        {
          "output_type": "stream",
          "text": [
            "4576/4576 [==============================] - 30s 7ms/step - loss: 2.2363e-04\n",
            "Epoch 38/100\n",
            "4576/4576 [==============================] - 30s 7ms/step - loss: 2.1720e-04\n",
            "Epoch 39/100\n",
            "4576/4576 [==============================] - 30s 7ms/step - loss: 2.3368e-04\n",
            "Epoch 40/100\n",
            "3520/4576 [======================>.......] - ETA: 7s - loss: 2.3263e-04"
          ],
          "name": "stdout"
        },
        {
          "output_type": "stream",
          "text": [
            "4576/4576 [==============================] - 31s 7ms/step - loss: 2.3041e-04\n",
            "Epoch 41/100\n",
            "4576/4576 [==============================] - 31s 7ms/step - loss: 2.0705e-04\n",
            "Epoch 42/100\n",
            "4576/4576 [==============================] - 31s 7ms/step - loss: 2.2409e-04\n",
            "Epoch 43/100\n",
            "3520/4576 [======================>.......] - ETA: 7s - loss: 2.3625e-04"
          ],
          "name": "stdout"
        },
        {
          "output_type": "stream",
          "text": [
            "4576/4576 [==============================] - 31s 7ms/step - loss: 2.3640e-04\n",
            "Epoch 44/100\n",
            "4576/4576 [==============================] - 31s 7ms/step - loss: 2.0711e-04\n",
            "Epoch 45/100\n",
            "4576/4576 [==============================] - 31s 7ms/step - loss: 2.0059e-04\n",
            "Epoch 46/100\n",
            "3520/4576 [======================>.......] - ETA: 7s - loss: 1.9606e-04"
          ],
          "name": "stdout"
        },
        {
          "output_type": "stream",
          "text": [
            "4576/4576 [==============================] - 31s 7ms/step - loss: 1.9639e-04\n",
            "Epoch 47/100\n",
            "4576/4576 [==============================] - 31s 7ms/step - loss: 2.1056e-04\n",
            "Epoch 48/100\n",
            "4576/4576 [==============================] - 32s 7ms/step - loss: 2.0666e-04\n",
            "Epoch 49/100\n",
            "3520/4576 [======================>.......] - ETA: 7s - loss: 2.0768e-04"
          ],
          "name": "stdout"
        },
        {
          "output_type": "stream",
          "text": [
            "4576/4576 [==============================] - 31s 7ms/step - loss: 2.0385e-04\n",
            "Epoch 50/100\n",
            "4576/4576 [==============================] - 32s 7ms/step - loss: 2.0892e-04\n",
            "Epoch 51/100\n",
            "4576/4576 [==============================] - 31s 7ms/step - loss: 2.0426e-04\n",
            "Epoch 52/100\n",
            "3520/4576 [======================>.......] - ETA: 7s - loss: 1.9373e-04"
          ],
          "name": "stdout"
        },
        {
          "output_type": "stream",
          "text": [
            "4576/4576 [==============================] - 31s 7ms/step - loss: 1.9591e-04\n",
            "Epoch 53/100\n",
            "4576/4576 [==============================] - 31s 7ms/step - loss: 2.0923e-04\n",
            "Epoch 54/100\n",
            "4576/4576 [==============================] - 31s 7ms/step - loss: 1.8849e-04\n",
            "Epoch 55/100\n",
            "3520/4576 [======================>.......] - ETA: 7s - loss: 1.7751e-04"
          ],
          "name": "stdout"
        },
        {
          "output_type": "stream",
          "text": [
            "4576/4576 [==============================] - 31s 7ms/step - loss: 1.9052e-04\n",
            "Epoch 56/100\n",
            "4576/4576 [==============================] - 31s 7ms/step - loss: 2.0004e-04\n",
            "Epoch 57/100\n",
            "4576/4576 [==============================] - 31s 7ms/step - loss: 1.8880e-04\n",
            "Epoch 58/100\n",
            "3520/4576 [======================>.......] - ETA: 7s - loss: 1.9593e-04"
          ],
          "name": "stdout"
        },
        {
          "output_type": "stream",
          "text": [
            "4576/4576 [==============================] - 32s 7ms/step - loss: 1.8996e-04\n",
            "Epoch 59/100\n",
            "4576/4576 [==============================] - 31s 7ms/step - loss: 1.9130e-04\n",
            "Epoch 60/100\n",
            "4576/4576 [==============================] - 31s 7ms/step - loss: 2.0101e-04\n",
            "Epoch 61/100\n",
            "3520/4576 [======================>.......] - ETA: 7s - loss: 1.9006e-04"
          ],
          "name": "stdout"
        },
        {
          "output_type": "stream",
          "text": [
            "4576/4576 [==============================] - 31s 7ms/step - loss: 1.8506e-04\n",
            "Epoch 62/100\n",
            "4576/4576 [==============================] - 31s 7ms/step - loss: 2.0781e-04\n",
            "Epoch 63/100\n",
            "4576/4576 [==============================] - 31s 7ms/step - loss: 2.0890e-04\n",
            "Epoch 64/100\n",
            "3520/4576 [======================>.......] - ETA: 7s - loss: 2.1009e-04"
          ],
          "name": "stdout"
        },
        {
          "output_type": "stream",
          "text": [
            "4576/4576 [==============================] - 31s 7ms/step - loss: 2.0605e-04\n",
            "Epoch 65/100\n",
            "4576/4576 [==============================] - 31s 7ms/step - loss: 1.9777e-04\n",
            "Epoch 66/100\n",
            "4576/4576 [==============================] - 31s 7ms/step - loss: 1.8665e-04\n",
            "Epoch 67/100\n",
            "3520/4576 [======================>.......] - ETA: 7s - loss: 2.1887e-04"
          ],
          "name": "stdout"
        },
        {
          "output_type": "stream",
          "text": [
            "4576/4576 [==============================] - 31s 7ms/step - loss: 2.1206e-04\n",
            "Epoch 68/100\n",
            "4576/4576 [==============================] - 31s 7ms/step - loss: 1.7973e-04\n",
            "Epoch 69/100\n",
            "4576/4576 [==============================] - 31s 7ms/step - loss: 1.7607e-04\n",
            "Epoch 70/100\n",
            "3520/4576 [======================>.......] - ETA: 7s - loss: 1.9384e-04"
          ],
          "name": "stdout"
        },
        {
          "output_type": "stream",
          "text": [
            "4576/4576 [==============================] - 31s 7ms/step - loss: 1.9217e-04\n",
            "Epoch 71/100\n",
            "4576/4576 [==============================] - 31s 7ms/step - loss: 1.8436e-04\n",
            "Epoch 72/100\n",
            "4576/4576 [==============================] - 31s 7ms/step - loss: 1.8502e-04\n",
            "Epoch 73/100\n",
            "3520/4576 [======================>.......] - ETA: 7s - loss: 1.9515e-04"
          ],
          "name": "stdout"
        },
        {
          "output_type": "stream",
          "text": [
            "4576/4576 [==============================] - 31s 7ms/step - loss: 1.9514e-04\n",
            "Epoch 74/100\n",
            "4576/4576 [==============================] - 31s 7ms/step - loss: 1.7850e-04\n",
            "Epoch 75/100\n",
            "4576/4576 [==============================] - 31s 7ms/step - loss: 1.9719e-04\n",
            "Epoch 76/100\n",
            "3520/4576 [======================>.......] - ETA: 7s - loss: 1.7733e-04"
          ],
          "name": "stdout"
        },
        {
          "output_type": "stream",
          "text": [
            "4576/4576 [==============================] - 31s 7ms/step - loss: 1.8001e-04\n",
            "Epoch 77/100\n",
            "4576/4576 [==============================] - 31s 7ms/step - loss: 1.7676e-04\n",
            "Epoch 78/100\n",
            "4576/4576 [==============================] - 31s 7ms/step - loss: 1.7933e-04\n",
            "Epoch 79/100\n",
            "3520/4576 [======================>.......] - ETA: 7s - loss: 1.7251e-04"
          ],
          "name": "stdout"
        },
        {
          "output_type": "stream",
          "text": [
            "4576/4576 [==============================] - 31s 7ms/step - loss: 1.7839e-04\n",
            "Epoch 80/100\n",
            "4576/4576 [==============================] - 31s 7ms/step - loss: 1.7871e-04\n",
            "Epoch 81/100\n",
            "4576/4576 [==============================] - 31s 7ms/step - loss: 1.9278e-04\n",
            "Epoch 82/100\n",
            "3520/4576 [======================>.......] - ETA: 7s - loss: 1.6525e-04"
          ],
          "name": "stdout"
        },
        {
          "output_type": "stream",
          "text": [
            "4576/4576 [==============================] - 31s 7ms/step - loss: 1.6254e-04\n",
            "Epoch 83/100\n",
            "4576/4576 [==============================] - 31s 7ms/step - loss: 1.7855e-04\n",
            "Epoch 84/100\n",
            "4576/4576 [==============================] - 31s 7ms/step - loss: 1.6763e-04\n",
            "Epoch 85/100\n",
            "3520/4576 [======================>.......] - ETA: 7s - loss: 1.6943e-04"
          ],
          "name": "stdout"
        },
        {
          "output_type": "stream",
          "text": [
            "4576/4576 [==============================] - 31s 7ms/step - loss: 1.7205e-04\n",
            "Epoch 86/100\n",
            "4576/4576 [==============================] - 31s 7ms/step - loss: 1.6060e-04\n",
            "Epoch 87/100\n",
            "4576/4576 [==============================] - 31s 7ms/step - loss: 1.7650e-04\n",
            "Epoch 88/100\n",
            "3520/4576 [======================>.......] - ETA: 7s - loss: 1.8421e-04"
          ],
          "name": "stdout"
        },
        {
          "output_type": "stream",
          "text": [
            "4576/4576 [==============================] - 32s 7ms/step - loss: 1.8269e-04\n",
            "Epoch 89/100\n",
            "4576/4576 [==============================] - 32s 7ms/step - loss: 1.6154e-04\n",
            "Epoch 90/100\n",
            "4576/4576 [==============================] - 32s 7ms/step - loss: 1.6512e-04\n",
            "Epoch 91/100\n",
            "3520/4576 [======================>.......] - ETA: 7s - loss: 1.5547e-04"
          ],
          "name": "stdout"
        },
        {
          "output_type": "stream",
          "text": [
            "4576/4576 [==============================] - 32s 7ms/step - loss: 1.5851e-04\n",
            "Epoch 92/100\n",
            "4576/4576 [==============================] - 32s 7ms/step - loss: 1.6881e-04\n",
            "Epoch 93/100\n",
            "4576/4576 [==============================] - 30s 7ms/step - loss: 1.8348e-04\n",
            "Epoch 94/100\n",
            "3488/4576 [=====================>........] - ETA: 7s - loss: 1.4936e-04"
          ],
          "name": "stdout"
        },
        {
          "output_type": "stream",
          "text": [
            "4576/4576 [==============================] - 30s 7ms/step - loss: 1.5615e-04\n",
            "Epoch 95/100\n",
            "4576/4576 [==============================] - 30s 7ms/step - loss: 1.6438e-04\n",
            "Epoch 96/100\n",
            "4576/4576 [==============================] - 30s 7ms/step - loss: 1.6712e-04\n",
            "Epoch 97/100\n",
            "3520/4576 [======================>.......] - ETA: 7s - loss: 1.7141e-04"
          ],
          "name": "stdout"
        },
        {
          "output_type": "stream",
          "text": [
            "4576/4576 [==============================] - 32s 7ms/step - loss: 1.7638e-04\n",
            "Epoch 98/100\n",
            "4576/4576 [==============================] - 32s 7ms/step - loss: 1.6028e-04\n",
            "Epoch 99/100\n",
            "4576/4576 [==============================] - 32s 7ms/step - loss: 1.6577e-04\n",
            "Epoch 100/100\n",
            "3520/4576 [======================>.......] - ETA: 7s - loss: 1.5548e-04"
          ],
          "name": "stdout"
        },
        {
          "output_type": "stream",
          "text": [
            "4576/4576 [==============================] - 31s 7ms/step - loss: 1.6118e-04\n"
          ],
          "name": "stdout"
        },
        {
          "output_type": "execute_result",
          "data": {
            "text/plain": [
              "<keras.callbacks.History at 0x7febccc4f0f0>"
            ]
          },
          "metadata": {
            "tags": []
          },
          "execution_count": 8
        }
      ]
    },
    {
      "metadata": {
        "id": "VYaYjZlkDEKD",
        "colab_type": "code",
        "colab": {}
      },
      "cell_type": "code",
      "source": [
        "X_test = X_test.reshape((X_test.shape[0],X_test.shape[1],1))"
      ],
      "execution_count": 0,
      "outputs": []
    },
    {
      "metadata": {
        "id": "E_hn3pKyPAE3",
        "colab_type": "code",
        "colab": {}
      },
      "cell_type": "code",
      "source": [
        "Xt = regressor.predict(X_test)"
      ],
      "execution_count": 0,
      "outputs": []
    },
    {
      "metadata": {
        "id": "FVpK3DWLQS9S",
        "colab_type": "code",
        "colab": {}
      },
      "cell_type": "code",
      "source": [
        ""
      ],
      "execution_count": 0,
      "outputs": []
    },
    {
      "metadata": {
        "id": "c1e9g3IrPIuM",
        "colab_type": "code",
        "colab": {}
      },
      "cell_type": "code",
      "source": [
        ""
      ],
      "execution_count": 0,
      "outputs": []
    },
    {
      "metadata": {
        "id": "XnMXsMKQPOpc",
        "colab_type": "code",
        "colab": {}
      },
      "cell_type": "code",
      "source": [
        "pred_normal = scl.inverse_transform(Xt)\n"
      ],
      "execution_count": 0,
      "outputs": []
    },
    {
      "metadata": {
        "id": "L2UyANN2PcOu",
        "colab_type": "code",
        "colab": {}
      },
      "cell_type": "code",
      "source": [
        "y_test_normal = scl.inverse_transform(y_test.reshape(-1,1))"
      ],
      "execution_count": 0,
      "outputs": []
    },
    {
      "metadata": {
        "id": "y0zMStjHPgC2",
        "colab_type": "code",
        "colab": {
          "base_uri": "https://localhost:8080/",
          "height": 136
        },
        "outputId": "7390d8f8-edc1-454f-b14f-d469dc6457e7"
      },
      "cell_type": "code",
      "source": [
        "pred_normal"
      ],
      "execution_count": 54,
      "outputs": [
        {
          "output_type": "execute_result",
          "data": {
            "text/plain": [
              "array([[1648.7732],\n",
              "       [1630.9263],\n",
              "       [1635.6105],\n",
              "       ...,\n",
              "       [2553.3093],\n",
              "       [2559.8562],\n",
              "       [2562.6167]], dtype=float32)"
            ]
          },
          "metadata": {
            "tags": []
          },
          "execution_count": 54
        }
      ]
    },
    {
      "metadata": {
        "id": "YLDRn_5_PhLm",
        "colab_type": "code",
        "colab": {
          "base_uri": "https://localhost:8080/",
          "height": 136
        },
        "outputId": "28928c6c-2a99-4032-86d3-ef116ffd6dab"
      },
      "cell_type": "code",
      "source": [
        "y_test_normal"
      ],
      "execution_count": 48,
      "outputs": [
        {
          "output_type": "execute_result",
          "data": {
            "text/plain": [
              "array([[1631.709961],\n",
              "       [1640.72998 ],\n",
              "       [1629.050049],\n",
              "       ...,\n",
              "       [2661.72998 ],\n",
              "       [2667.590088],\n",
              "       [2665.870117]])"
            ]
          },
          "metadata": {
            "tags": []
          },
          "execution_count": 48
        }
      ]
    },
    {
      "metadata": {
        "id": "vaIg29lwPjQI",
        "colab_type": "code",
        "colab": {
          "base_uri": "https://localhost:8080/",
          "height": 376
        },
        "outputId": "7bd1e1c7-fdc4-47b1-a59c-51650d48a8c0"
      },
      "cell_type": "code",
      "source": [
        "plt.plot(scl.inverse_transform(y_test.reshape(-1,1)), color = 'red', label = 'Real Stock Price')\n",
        "plt.plot(scl.inverse_transform(Xt), color = 'blue', label = 'Predicted  Stock Price')\n",
        "\n",
        "plt.title('Stock Price Prediction')\n",
        "plt.xlabel('Time')\n",
        "plt.ylabel('Stock Price')\n",
        "plt.legend()\n",
        "plt.show()"
      ],
      "execution_count": 45,
      "outputs": [
        {
          "output_type": "display_data",
          "data": {
            "image/png": "[encoded data removed]",
            "text/plain": [
              "<matplotlib.figure.Figure at 0x7febc86311d0>"
            ]
          },
          "metadata": {
            "tags": []
          }
        }
      ]
    },
    {
      "metadata": {
        "id": "a22UECFbQ4Cc",
        "colab_type": "code",
        "colab": {}
      },
      "cell_type": "code",
      "source": [
        "def cal_target(df):\n",
        "    list_y =[]\n",
        "    temp = df\n",
        "    for i in range(len(temp)-1):\n",
        "        if temp[i+1] > temp[i]:\n",
        "            y = 1\n",
        "        else:\n",
        "            y = -1\n",
        "            \n",
        "        list_y.append(y)\n",
        "    ydf = pd.DataFrame(list_y)\n",
        "    return ydf"
      ],
      "execution_count": 0,
      "outputs": []
    },
    {
      "metadata": {
        "id": "SCVEKglMRwrP",
        "colab_type": "code",
        "colab": {}
      },
      "cell_type": "code",
      "source": [
        "y_test_trend = cal_target(y_test_normal)\n",
        "pred_trend =cal_target(pred_normal)\n"
      ],
      "execution_count": 0,
      "outputs": []
    },
    {
      "metadata": {
        "id": "EVoMociCR6CI",
        "colab_type": "code",
        "colab": {
          "base_uri": "https://localhost:8080/",
          "height": 34
        },
        "outputId": "35db6507-3835-4a38-8b5b-1ad2fd6aae32"
      },
      "cell_type": "code",
      "source": [
        "from sklearn.metrics import accuracy_score\n",
        "score = accuracy_score(y_test_trend, pred_trend)\n",
        "print(score)"
      ],
      "execution_count": 58,
      "outputs": [
        {
          "output_type": "stream",
          "text": [
            "0.5017482517482518\n"
          ],
          "name": "stdout"
        }
      ]
    },
    {
      "metadata": {
        "id": "g16ldOdXR8_F",
        "colab_type": "code",
        "colab": {
          "base_uri": "https://localhost:8080/",
          "height": 34
        },
        "outputId": "f144e08c-efcf-4ca6-ba8f-df222916c995"
      },
      "cell_type": "code",
      "source": [
        "# Saving Model\n",
        "model_json = regressor.to_json()\n",
        "with open(\"model.json\", \"w\") as json_file:\n",
        "    json_file.write(model_json)\n",
        "# serialize weights to HDF5\n",
        "regressor.save_weights(\"model.h5\")\n",
        "print(\"Saved model to disk\")"
      ],
      "execution_count": 59,
      "outputs": [
        {
          "output_type": "stream",
          "text": [
            "Saved model to disk\n"
          ],
          "name": "stdout"
        }
      ]
    },
    {
      "metadata": {
        "id": "QiR5tJ4PXceT",
        "colab_type": "code",
        "colab": {}
      },
      "cell_type": "code",
      "source": [
        ""
      ],
      "execution_count": 0,
      "outputs": []
    }
  ]
}